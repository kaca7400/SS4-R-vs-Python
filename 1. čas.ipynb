{
 "cells": [
  {
   "cell_type": "markdown",
   "metadata": {},
   "source": [
    "#PRVI ČAS\n",
    "\n",
    "Prvo nešto kratko o MonteKarlo metodi. \n",
    "Ideja je da se generišu neki slučajni brojevi, na određeni način ispitaju neophodni uslovi (tj. faktički gledamo koliko često se nešto \"realizovalo\") i vratimo taj broj. \n",
    "\n",
    "Ta metoda specijalno dobro prolazi u slučaju integracije i pogodna je ako imamo neke nezgodne podintegralne funkcije, koje je teško ili nemoguće izraziti u elementarnim funkcijama. U slučaju da se integracija ne vrši na skupu [0,1] već na nekom drugom, \n",
    "moramo da pazimo kako biramo granice za generisanje pseudoslučajnih brojeva. Promenljiva \"x\" se svakako kreće po granicama integracije, dok \"y\" od \"min f(x)\" do \"max f(x)\" po skupu svih mogućih vrednosti za \"x\". \n",
    "Zato je neophodan uslov da podintegralna funkcija f(x) bude ograničena na datom skupu.\n",
    "\n",
    "Pokazaćemo na primeru nekih prostih funkcija.\n",
    "\n",
    "Želimo da odredimo površinu ispod neke određene funkcije na intervalu [0, 1] pomoću Monte Karlo metode."
   ]
  },
  {
   "cell_type": "code",
   "execution_count": 34,
   "metadata": {
    "collapsed": false
   },
   "outputs": [],
   "source": [
    "import numpy as np\n",
    "from numpy import random\n",
    "#from statistics import mean\n",
    "from sklearn import datasets, linear_model\n",
    "import matplotlib.pyplot as plt\n",
    "import pandas\n",
    "import csv"
   ]
  },
  {
   "cell_type": "code",
   "execution_count": 27,
   "metadata": {
    "collapsed": false
   },
   "outputs": [
    {
     "data": {
      "text/plain": [
       "0.1705"
      ]
     },
     "execution_count": 27,
     "metadata": {},
     "output_type": "execute_result"
    }
   ],
   "source": [
    "def Montekarlo(N,s): # s - stepen funkcije, pozitivan broj\n",
    "    brojac=[]\n",
    "    for i in range(N):\n",
    "        x=random.rand()\n",
    "        y=random.rand()\n",
    "        if y<x**s:\n",
    "            brojac.append(1)\n",
    "        else: brojac.append(0)\n",
    "    return(mean(brojac))\n",
    "\n",
    "Montekarlo(10000, 5)"
   ]
  },
  {
   "cell_type": "markdown",
   "metadata": {},
   "source": [
    "Druga verzija iste funkcije:"
   ]
  },
  {
   "cell_type": "code",
   "execution_count": 41,
   "metadata": {
    "collapsed": false
   },
   "outputs": [
    {
     "data": {
      "text/plain": [
       "0.1648"
      ]
     },
     "execution_count": 41,
     "metadata": {},
     "output_type": "execute_result"
    }
   ],
   "source": [
    "def Montekarlo2(n,s):\n",
    "    x=np.array([random.rand() for i in range(n)])\n",
    "    y=np.array([random.rand() for i in range(n)])\n",
    "    z=list(map(int,y<x**s)) # da li može jednostavnije?\n",
    "    return(mean(z))\n",
    "\n",
    "Montekarlo2(10000, 5)"
   ]
  },
  {
   "cell_type": "markdown",
   "metadata": {},
   "source": [
    "http://scikit-learn.org/stable/auto_examples/linear_model/plot_ols.html\n",
    "http://scikit-learn.org/stable/modules/generated/sklearn.linear_model.LinearRegression.html"
   ]
  },
  {
   "cell_type": "code",
   "execution_count": 42,
   "metadata": {
    "collapsed": false
   },
   "outputs": [
    {
     "name": "stdout",
     "output_type": "stream",
     "text": [
      "[[ 41.31826206]]\n",
      "[-73.35646552]\n"
     ]
    },
    {
     "data": {
      "image/png": "[encoded data removed]",
      "text/plain": [
       "<matplotlib.figure.Figure at 0xc1d48df98>"
      ]
     },
     "metadata": {},
     "output_type": "display_data"
    },
    {
     "name": "stdout",
     "output_type": "stream",
     "text": [
      "R^2 je:  0.964225379866\n"
     ]
    }
   ],
   "source": [
    "# sklearn je paket za mašinsko učenje u pythonu...\n",
    "# valjalo bi odvojiti train, test i cv podatke!\n",
    "\n",
    "x=np.array([8.3, 9.3, 12.1, 12.3, 17.0, 17.3, 24.3, 24.5, 33.6])\n",
    "x=x.reshape(-1, 1)\n",
    "y=np.array([227, 312, 362, 521, 539, 728, 945, 1000, 1263])\n",
    "y=y.reshape(-1, 1)\n",
    "\n",
    "# Oceniti koeficijente modela y=a*x+b, gde su x, y - vektori, dok a i b - neki brojevi. \n",
    "regr = linear_model.LinearRegression() #objekat linearne regresije\n",
    "fitted=regr.fit(x, y) # x mora biti kolona ovde, a inače je matrica \n",
    "coeff=regr.coef_ # ne vraća beta_0\n",
    "intercept=regr.intercept_\n",
    "print(coeff) # 41.31826206\n",
    "print(intercept) # -73.35646552\n",
    "plt.scatter(x, y,  color='black') # ovo i ovo ispod su trebali da budu na test skupu...\n",
    "plt.plot(x, regr.predict(x), color='blue', linewidth=3)\n",
    "plt.xticks(())\n",
    "plt.yticks(())\n",
    "\n",
    "plt.show()\n",
    "\n",
    "R_squared=fitted.score(x, y)\n",
    "print(\"R^2 je: \",R_squared)"
   ]
  },
  {
   "cell_type": "markdown",
   "metadata": {},
   "source": [
    "Možda uraditi verziju i u StatsModels paketu?\n",
    "http://statsmodels.sourceforge.net/"
   ]
  },
  {
   "cell_type": "markdown",
   "metadata": {},
   "source": [
    "Drugi primer:"
   ]
  },
  {
   "cell_type": "code",
   "execution_count": 43,
   "metadata": {
    "collapsed": false
   },
   "outputs": [
    {
     "name": "stdout",
     "output_type": "stream",
     "text": [
      "[[ 25.32646778]]\n",
      "[ 353.1648795]\n"
     ]
    },
    {
     "data": {
      "image/png": "[encoded data removed]",
      "text/plain": [
       "<matplotlib.figure.Figure at 0xc1d48dd30>"
      ]
     },
     "metadata": {},
     "output_type": "display_data"
    },
    {
     "name": "stdout",
     "output_type": "stream",
     "text": [
      "R^2 je:  0.871619258229\n"
     ]
    }
   ],
   "source": [
    "x=np.array([4,9, 10, 14, 4, 7, 12, 22, 1, 3, 8, 11, 5, 6, 10, 11, 16, 13, 13, 10])\n",
    "x=x.reshape(-1, 1)\n",
    "y=np.array([390, 580, 650, 730, 410, 530, 600, 790, 350, 400, 590, 640,450, 520, 690, 690, 770,700, 730, 640])\n",
    "y=y.reshape(-1, 1)\n",
    "#lin reg\n",
    "regr = linear_model.LinearRegression() #objekat linearne regresije\n",
    "fitted=regr.fit(x, y) # x mora biti kolona ovde, a inače je matrica \n",
    "coeff=regr.coef_ # ne vraća beta_0\n",
    "intercept=regr.intercept_\n",
    "print(coeff) # 25.32646778\n",
    "print(intercept) # 353.1648795\n",
    "# ima i atribut residues_ koji vraća sumu reziduala\n",
    "plt.scatter(x, y,  color='black') # ovo i ovo ispod su trebali da budu na test skupu...\n",
    "plt.plot(x, regr.predict(x), color='blue', linewidth=3)\n",
    "plt.xticks(())\n",
    "plt.yticks(())\n",
    "\n",
    "plt.show()\n",
    "\n",
    "R_squared=fitted.score(x, y)\n",
    "print(\"R^2 je: \",R_squared)"
   ]
  },
  {
   "cell_type": "markdown",
   "metadata": {},
   "source": [
    "Treći primer:"
   ]
  },
  {
   "cell_type": "code",
   "execution_count": 44,
   "metadata": {
    "collapsed": false
   },
   "outputs": [
    {
     "name": "stdout",
     "output_type": "stream",
     "text": [
      "[[-0.0566588]]\n",
      "[ 353.1648795]\n"
     ]
    },
    {
     "data": {
      "image/png": "[encoded data removed]",
      "text/plain": [
       "<matplotlib.figure.Figure at 0xc1d496b00>"
      ]
     },
     "metadata": {},
     "output_type": "display_data"
    },
    {
     "name": "stdout",
     "output_type": "stream",
     "text": [
      "R^2 je:  -20.2760436658\n"
     ]
    }
   ],
   "source": [
    "q=np.arange(-1,1,0.05)\n",
    "w=q**2+[random.normal(0, 0.05) for i in range(len(q))]\n",
    "w=np.array(w)\n",
    "q=q.reshape(-1, 1)\n",
    "w=w.reshape(-1, 1)\n",
    "# naci regresionu pravu za w u odnosu na q\n",
    "regr = linear_model.LinearRegression() #objekat linearne regresije\n",
    "fitted=regr.fit(q, w)\n",
    "coeff=regr.coef_\n",
    "print(coeff)\n",
    "print(intercept) # 353.1648795\n",
    "# ima i atribut residues_ koji vraća sumu reziduala\n",
    "plt.scatter(x, y,  color='black') # ovo i ovo ispod su trebali da budu na test skupu...\n",
    "plt.plot(x, regr.predict(x), color='blue', linewidth=3)\n",
    "plt.xticks(())\n",
    "plt.yticks(())\n",
    "\n",
    "plt.show()\n",
    "\n",
    "R_squared=fitted.score(x, y)\n",
    "print(\"R^2 je: \",R_squared)"
   ]
  },
  {
   "cell_type": "markdown",
   "metadata": {},
   "source": [
    "Četvrti primer"
   ]
  },
  {
   "cell_type": "code",
   "execution_count": 45,
   "metadata": {
    "collapsed": false
   },
   "outputs": [
    {
     "ename": "Error",
     "evalue": "iterator should return strings, not bytes (did you open the file in text mode?)",
     "output_type": "error",
     "traceback": [
      "\u001b[0;31m-------------------------------------------------------------------------\u001b[0m",
      "\u001b[0;31mError\u001b[0m                                   Traceback (most recent call last)",
      "\u001b[0;32m<ipython-input-45-dce629ec36c9>\u001b[0m in \u001b[0;36m<module>\u001b[0;34m()\u001b[0m\n\u001b[1;32m      1\u001b[0m \u001b[1;32mwith\u001b[0m \u001b[0mopen\u001b[0m\u001b[1;33m(\u001b[0m\u001b[1;34m'Boston.csv'\u001b[0m\u001b[1;33m,\u001b[0m \u001b[1;34m'rb'\u001b[0m\u001b[1;33m)\u001b[0m \u001b[1;32mas\u001b[0m \u001b[0mcsvfile\u001b[0m\u001b[1;33m:\u001b[0m\u001b[1;33m\u001b[0m\u001b[0m\n\u001b[1;32m      2\u001b[0m         \u001b[0mtabela\u001b[0m \u001b[1;33m=\u001b[0m \u001b[0mcsv\u001b[0m\u001b[1;33m.\u001b[0m\u001b[0mreader\u001b[0m\u001b[1;33m(\u001b[0m\u001b[0mcsvfile\u001b[0m\u001b[1;33m,\u001b[0m \u001b[0mdelimiter\u001b[0m\u001b[1;33m=\u001b[0m\u001b[1;34m' '\u001b[0m\u001b[1;33m,\u001b[0m \u001b[0mquotechar\u001b[0m\u001b[1;33m=\u001b[0m\u001b[1;34m'|'\u001b[0m\u001b[1;33m)\u001b[0m\u001b[1;33m\u001b[0m\u001b[0m\n\u001b[0;32m----> 3\u001b[0;31m         \u001b[1;32mfor\u001b[0m \u001b[0mrow\u001b[0m \u001b[1;32min\u001b[0m \u001b[0mtabela\u001b[0m\u001b[1;33m:\u001b[0m \u001b[1;32mpass\u001b[0m\u001b[1;33m\u001b[0m\u001b[0m\n\u001b[0m\u001b[1;32m      4\u001b[0m \u001b[1;33m\u001b[0m\u001b[0m\n\u001b[1;32m      5\u001b[0m \u001b[1;31m# nešto me zeza ovo učitavanje...\u001b[0m\u001b[1;33m\u001b[0m\u001b[1;33m\u001b[0m\u001b[0m\n",
      "\u001b[0;31mError\u001b[0m: iterator should return strings, not bytes (did you open the file in text mode?)"
     ]
    }
   ],
   "source": [
    "with open('Boston.csv', 'rb') as csvfile:\n",
    "        tabela = csv.reader(csvfile, delimiter=' ', quotechar='|')\n",
    "        for row in tabela: pass\n",
    "            \n",
    "# nešto me zeza ovo učitavanje..."
   ]
  },
  {
   "cell_type": "code",
   "execution_count": null,
   "metadata": {
    "collapsed": true
   },
   "outputs": [],
   "source": []
  }
 ],
 "metadata": {
  "kernelspec": {
   "display_name": "Python 3",
   "language": "python",
   "name": "python3"
  },
  "language_info": {
   "codemirror_mode": {
    "name": "ipython",
    "version": 3
   },
   "file_extension": ".py",
   "mimetype": "text/x-python",
   "name": "python",
   "nbconvert_exporter": "python",
   "pygments_lexer": "ipython3",
   "version": "3.6.0"
  }
 },
 "nbformat": 4,
 "nbformat_minor": 2
}
