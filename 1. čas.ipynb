{
 "cells": [
  {
   "cell_type": "markdown",
   "metadata": {},
   "source": [
    "#PRVI CAS\n",
    "\n",
    "Prvo nesto kratko o MonteKarlo metodi. \n",
    "Ideja je da se generisu neki slucajni brojevi, na odredjeni nacin ispitaju neophodni uslovi (tj fakticki gledamo koliko cesto se nesto \"realizovalo\") i vratimo taj broj. \n",
    "\n",
    "Ta metoda specijalno dobro prolazi u slucaju integracije i pogodna je ako imamo neke nezgodne podintegralne funkcije, koje je tesko ili nemoguce izraziti u elementarnim funkcijama. U slucaju da se integracija ne vrsi na skupu [0,1] vec na nekom drugom, \n",
    "moramo da pazimo kako biramo granice za generisanje pseudoslucajnih brojeva. Promenljiva \"x\" se svakako krece po granicama integracije, dok \"y\" od \"min f(x)\" do \"max f(x)\" po skupu svih mogucih vrednosti za \"x\". \n",
    "Zato je neophodan uslov da podintegralna funkcija f(x) bude ogranicena na datom skupu.\n",
    "\n",
    "Pokazacemo na primeru nekih prostih funkcija.\n",
    "\n",
    "Zelimo da odredimo povrsinu ispod neke odredjene funkcije na intervalu [0, 1] \n",
    "pomocu Monte Karlo metode."
   ]
  },
  {
   "cell_type": "code",
   "execution_count": 20,
   "metadata": {
    "collapsed": false
   },
   "outputs": [
    {
     "data": {
      "text/plain": [
       "0.1723"
      ]
     },
     "execution_count": 20,
     "metadata": {},
     "output_type": "execute_result"
    }
   ],
   "source": [
    "import numpy as np\n",
    "\n",
    "def Montekarlo(N,s): # s - stepen funkcije, pozitivan broj\n",
    "    brojac=[]\n",
    "    for i in range(N):\n",
    "        x=random.rand()\n",
    "        y=random.rand()\n",
    "        if y<x**s:\n",
    "            brojac.append(1)\n",
    "        else: brojac.append(0)\n",
    "    return(sum(brojac)/N)\n",
    "\n",
    "Montekarlo(10000, 5)"
   ]
  },
  {
   "cell_type": "markdown",
   "metadata": {},
   "source": [
    "Druga verzija iste funkcije:"
   ]
  },
  {
   "cell_type": "code",
   "execution_count": null,
   "metadata": {
    "collapsed": true
   },
   "outputs": [],
   "source": [
    "def Montekarlo2(n,s):\n",
    "  x=runif(n, 0, 1)\n",
    "  y=runif(n, 0, 1)\n",
    "  z=ifelse(y<x^s, 1, 0)\n",
    "  return(mean(z))\n",
    "}\n",
    "Montekarlo2(n*10, s)"
   ]
  },
  {
   "cell_type": "markdown",
   "metadata": {},
   "source": [
    "http://scikit-learn.org/stable/auto_examples/linear_model/plot_ols.html\n",
    "http://scikit-learn.org/stable/modules/generated/sklearn.linear_model.LinearRegression.html"
   ]
  },
  {
   "cell_type": "code",
   "execution_count": 49,
   "metadata": {
    "collapsed": false
   },
   "outputs": [
    {
     "name": "stdout",
     "output_type": "stream",
     "text": [
      "[[ 41.31826206]]\n",
      "[-73.35646552]\n"
     ]
    },
    {
     "data": {
      "image/png": "[encoded data removed]",
      "text/plain": [
       "<matplotlib.figure.Figure at 0xa951d0bda0>"
      ]
     },
     "metadata": {},
     "output_type": "display_data"
    }
   ],
   "source": [
    "from sklearn import datasets, linear_model\n",
    "import matplotlib.pyplot as plt\n",
    "\n",
    "x=np.array([8.3, 9.3, 12.1, 12.3, 17.0, 17.3, 24.3, 24.5, 33.6])\n",
    "x=x.reshape(-1, 1)\n",
    "y=np.array([227, 312, 362, 521, 539, 728, 945, 1000, 1263])\n",
    "y=y.reshape(-1, 1)\n",
    "\n",
    "# Oceniti koeficijente modela y=a*x+b, gde su x, y - vektori, dok a i b - neki brojevi. \n",
    "regr = linear_model.LinearRegression() #objekat linearne regresije\n",
    "fitted=regr.fit(x, y) # x mora biti kolona ovde, a inače je matrica \n",
    "coeff=regr.coef_ # ne vraća beta_0\n",
    "intercept=regr.intercept_\n",
    "print(coeff) # 41.31826206\n",
    "print(intercept) # -73.35646552\n",
    "plt.scatter(x, y,  color='black') # ovo i ovo ispod su trebali da budu na test skupu...\n",
    "plt.plot(x, regr.predict(x), color='blue', linewidth=3)\n",
    "plt.xticks(())\n",
    "plt.yticks(())\n",
    "\n",
    "plt.show()"
   ]
  },
  {
   "cell_type": "markdown",
   "metadata": {},
   "source": [
    "Drugi primer:"
   ]
  },
  {
   "cell_type": "code",
   "execution_count": 37,
   "metadata": {
    "collapsed": false
   },
   "outputs": [
    {
     "name": "stdout",
     "output_type": "stream",
     "text": [
      "[[ 25.32646778]]\n",
      "[ 353.1648795]\n"
     ]
    }
   ],
   "source": [
    "x=np.array([4,9, 10, 14, 4, 7, 12, 22, 1, 3, 8, 11, 5, 6, 10, 11, 16, 13, 13, 10])\n",
    "y=np.array([390, 580, 650, 730, 410, 530, 600, 790, 350, 400, 590, 640,450, 520, 690, 690, 770,700, 730, 640])\n",
    "#lin reg\n",
    "regr = linear_model.LinearRegression() #objekat linearne regresije\n",
    "fitted=regr.fit(x.reshape(-1, 1), y.reshape(-1, 1)) # x mora biti kolona ovde, a inače je matrica \n",
    "coeff=regr.coef_ # ne vraća beta_0\n",
    "intercept=regr.intercept_\n",
    "print(coeff) # 25.32646778\n",
    "print(intercept) # 353.1648795\n",
    "# ima i atribut residues_ koji vraća sumu reziduala"
   ]
  },
  {
   "cell_type": "markdown",
   "metadata": {},
   "source": [
    "Treći primer:"
   ]
  },
  {
   "cell_type": "code",
   "execution_count": 55,
   "metadata": {
    "collapsed": false
   },
   "outputs": [
    {
     "name": "stdout",
     "output_type": "stream",
     "text": [
      "[[-0.02249707]]\n"
     ]
    }
   ],
   "source": [
    "q=np.arange(-1,1,0.05)\n",
    "w=q**2+[random.normal(0, 0.05) for i in range(len(q))]\n",
    "w=np.array(w)\n",
    "q=q.reshape(-1, 1)\n",
    "w=w.reshape(-1, 1)\n",
    "# naci regresionu pravu za w u odnosu na q\n",
    "regr = linear_model.LinearRegression() #objekat linearne regresije\n",
    "fitted=regr.fit(q, w)\n",
    "coeff=regr.coef_\n",
    "print(coeff)\n",
    "# daje svaki put različite koeficijente... iz R-a znamo da je model promašaj, ali kako da znamo ovde?"
   ]
  },
  {
   "cell_type": "markdown",
   "metadata": {},
   "source": [
    "Četvrti primer"
   ]
  },
  {
   "cell_type": "code",
   "execution_count": 56,
   "metadata": {
    "collapsed": false
   },
   "outputs": [
    {
     "ename": "NameError",
     "evalue": "name 'read_csv' is not defined",
     "output_type": "error",
     "traceback": [
      "\u001b[0;31m-------------------------------------------------------------------------\u001b[0m",
      "\u001b[0;31mNameError\u001b[0m                               Traceback (most recent call last)",
      "\u001b[0;32m<ipython-input-56-a16d2e952f5f>\u001b[0m in \u001b[0;36m<module>\u001b[0;34m()\u001b[0m\n\u001b[1;32m      1\u001b[0m \u001b[1;32mimport\u001b[0m \u001b[0mpandas\u001b[0m\u001b[1;33m\u001b[0m\u001b[0m\n\u001b[0;32m----> 2\u001b[0;31m \u001b[0mtabela\u001b[0m\u001b[1;33m=\u001b[0m\u001b[0mread_csv\u001b[0m\u001b[1;33m(\u001b[0m\u001b[1;34m\"Boston.csv\"\u001b[0m\u001b[1;33m)\u001b[0m\u001b[1;33m\u001b[0m\u001b[0m\n\u001b[0m\u001b[1;32m      3\u001b[0m \u001b[0mtabela\u001b[0m\u001b[1;33m.\u001b[0m\u001b[0mhead\u001b[0m\u001b[1;33m(\u001b[0m\u001b[1;33m)\u001b[0m\u001b[1;33m\u001b[0m\u001b[0m\n",
      "\u001b[0;31mNameError\u001b[0m: name 'read_csv' is not defined"
     ]
    }
   ],
   "source": [
    "import pandas\n",
    "tabela=read_csv(\"Boston.csv\")\n",
    "tabela.head()\n",
    "# njeće"
   ]
  },
  {
   "cell_type": "code",
   "execution_count": null,
   "metadata": {
    "collapsed": true
   },
   "outputs": [],
   "source": []
  }
 ],
 "metadata": {
  "kernelspec": {
   "display_name": "Python 3",
   "language": "python",
   "name": "python3"
  },
  "language_info": {
   "codemirror_mode": {
    "name": "ipython",
    "version": 3
   },
   "file_extension": ".py",
   "mimetype": "text/x-python",
   "name": "python",
   "nbconvert_exporter": "python",
   "pygments_lexer": "ipython3",
   "version": "3.6.0"
  }
 },
 "nbformat": 4,
 "nbformat_minor": 2
}
